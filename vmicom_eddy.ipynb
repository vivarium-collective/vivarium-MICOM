{
 "cells": [
  {
   "cell_type": "code",
   "execution_count": null,
   "metadata": {},
   "outputs": [],
   "source": [
    "import os\n",
    "import pandas as pd\n",
    "from micom.workflows import build\n",
    "import cobra\n",
    "import micom\n",
    "from micom.media import minimal_medium\n",
    "import matplotlib.pyplot as plt\n",
    "import random"
   ]
  },
  {
   "cell_type": "code",
   "execution_count": null,
   "metadata": {},
   "outputs": [],
   "source": [
    "def xml_dict(directory_path, abundance = 1, extension='.xml'):\n",
    "    # List all files in the directory with the specified extension\n",
    "    files = [file for file in os.listdir(directory_path) if file.endswith(extension)]\n",
    "\n",
    "    # Create a DataFrame to hold the data\n",
    "    data = {\n",
    "        \"id\": [],\n",
    "        \"file\": [],\n",
    "        \"abundance\": [],\n",
    "        \"sample_id\": []\n",
    "    }\n",
    "\n",
    "    # Populate the DataFrame with information from the files\n",
    "    for xml in files:\n",
    "        filename = os.path.splitext(xml)[0]  # Get the filename without extension\n",
    "        abundance = int(random.randint(1, 100))\n",
    "        data[\"id\"].append(filename)\n",
    "        data[\"file\"].append(os.path.join(directory_path, xml))\n",
    "        data[\"abundance\"].append(abundance)  # Assuming equal abundance for all\n",
    "        data[\"sample_id\"].append(\"sample1\")  # Assuming a single sample\n",
    "\n",
    "    # Convert the dictionary to a DataFrame\n",
    "    df = pd.DataFrame(data)\n",
    "\n",
    "    return df\n"
   ]
  },
  {
   "cell_type": "code",
   "execution_count": null,
   "metadata": {},
   "outputs": [],
   "source": [
    "directory_path = '/Users/edwin/Downloads/reconstructions/dfba/'  "
   ]
  },
  {
   "cell_type": "code",
   "execution_count": null,
   "metadata": {},
   "outputs": [],
   "source": [
    "df = xml_dict(directory_path)\n",
    "print(df)"
   ]
  },
  {
   "cell_type": "code",
   "execution_count": null,
   "metadata": {},
   "outputs": [],
   "source": [
    "manifest = build(df, out_folder=directory_path, model_db=None, threads=2)"
   ]
  },
  {
   "cell_type": "code",
   "execution_count": null,
   "metadata": {},
   "outputs": [],
   "source": [
    "from micom.data import test_db\n",
    "from micom.workflows import build\n",
    "from micom.data import test_data\n",
    "\n",
    "data = test_data()\n",
    "data\n",
    "\n",
    "manifest = build(data, out_folder=\"models\", model_db=test_db, cutoff=0.0001, threads=2)"
   ]
  },
  {
   "cell_type": "code",
   "execution_count": null,
   "metadata": {},
   "outputs": [],
   "source": [
    " \n",
    "def xml_dict(directory_path, extension='.xml'):\n",
    "    # List all files in the directory with the specified extension\n",
    "    files = [file for file in os.listdir(directory_path) if file.endswith(extension)]\n",
    "\n",
    "    # Create a DataFrame to hold the data\n",
    "    data = {\n",
    "        \"id\": [],\n",
    "        \"genus\": [],\n",
    "        \"species\": [],\n",
    "        \"strain\": [],\n",
    "        \"reactions\": [],\n",
    "        \"metabolites\": [],\n",
    "        \"file\": [],\n",
    "        \"abundance\": [],\n",
    "        \"sample_id\": []\n",
    "    }\n",
    "\n",
    "    # Populate the DataFrame with information from the files\n",
    "    for xml in files:\n",
    "        filename = os.path.splitext(xml)[0]  # Get the filename without extension\n",
    "        parts = filename.split('_')\n",
    "        abundance = int(random.randint(1, 100))\n",
    "\n",
    "        # Extract genus, species, and strain\n",
    "        genus = parts[0]\n",
    "        species = parts[1]\n",
    "        strain = '_'.join(parts[2:])  # Combine all remaining parts for the strain\n",
    "\n",
    "        # Construct the full path to the file\n",
    "        full_path = os.path.join(directory_path, xml)\n",
    "        \n",
    "        # Read the model using cobra\n",
    "        model = cobra.io.read_sbml_model(full_path)\n",
    "\n",
    "        data[\"id\"].append(filename)\n",
    "        data[\"genus\"].append(genus)\n",
    "        data[\"species\"].append(species)\n",
    "        data[\"strain\"].append(strain)\n",
    "        data[\"reactions\"].append(len(model.reactions))\n",
    "        data[\"metabolites\"].append(len(model.metabolites))\n",
    "        data[\"file\"].append(full_path)\n",
    "        data[\"abundance\"].append(abundance)  # Assuming equal abundance for all\n",
    "        data[\"sample_id\"].append(\"sample1\")  # Assuming a single sample\n",
    "\n",
    "\n",
    "    # Convert the dictionary to a DataFrame\n",
    "    df = pd.DataFrame(data)\n",
    "\n",
    "    return df"
   ]
  },
  {
   "cell_type": "code",
   "execution_count": null,
   "metadata": {},
   "outputs": [],
   "source": [
    "df = xml_dict(directory_path)\n",
    "\n",
    "# Display the DataFrame\n",
    "print(df)"
   ]
  },
  {
   "cell_type": "code",
   "execution_count": null,
   "metadata": {},
   "outputs": [],
   "source": [
    "from micom import Community\n",
    "\n",
    "com = Community(df)\n",
    "print(\"Build a community with a total of {} reactions.\".format(len(com.reactions)))"
   ]
  },
  {
   "cell_type": "code",
   "execution_count": null,
   "metadata": {},
   "outputs": [],
   "source": [
    "com.medium[\"EX_fru_m\"]"
   ]
  },
  {
   "cell_type": "code",
   "execution_count": null,
   "metadata": {},
   "outputs": [],
   "source": [
    "sol = com.cooperative_tradeoff(fraction=0.5, fluxes= True)"
   ]
  },
  {
   "cell_type": "code",
   "execution_count": null,
   "metadata": {},
   "outputs": [],
   "source": [
    "sol"
   ]
  },
  {
   "cell_type": "code",
   "execution_count": null,
   "metadata": {},
   "outputs": [],
   "source": [
    "fluxes = sol.fluxes[\"EX_glc_D(e)\"]\n",
    "fluxes"
   ]
  },
  {
   "cell_type": "code",
   "execution_count": null,
   "metadata": {},
   "outputs": [],
   "source": [
    "med = micom.media.minimal_medium(com, 0.8, min_growth=0.8)"
   ]
  },
  {
   "cell_type": "code",
   "execution_count": null,
   "metadata": {},
   "outputs": [],
   "source": [
    "med[\"EX_glc_D_m\"] = 1000\n",
    "med[\"EX_fru_m\"] = 1000\n",
    "\n",
    "for key in med.keys():\n",
    "    if \"MG\"in key:\n",
    "        med[key] = 10\n",
    "    else:\n",
    "        med[key] = 1000"
   ]
  },
  {
   "cell_type": "code",
   "execution_count": null,
   "metadata": {},
   "outputs": [],
   "source": [
    "com.medium['EX_glc_D_m']"
   ]
  },
  {
   "cell_type": "code",
   "execution_count": null,
   "metadata": {},
   "outputs": [],
   "source": [
    "com.medium = med\n",
    "com.optimize()"
   ]
  },
  {
   "cell_type": "code",
   "execution_count": null,
   "metadata": {},
   "outputs": [],
   "source": [
    "solution = com.cooperative_tradeoff(fraction=0.5, fluxes= True)"
   ]
  },
  {
   "cell_type": "code",
   "execution_count": null,
   "metadata": {},
   "outputs": [],
   "source": [
    "solution.fluxes['EX_glc_D_m'].medium"
   ]
  },
  {
   "cell_type": "code",
   "execution_count": null,
   "metadata": {},
   "outputs": [],
   "source": [
    "so = com.optimize()\n",
    "so.objective_value"
   ]
  },
  {
   "cell_type": "code",
   "execution_count": null,
   "metadata": {},
   "outputs": [],
   "source": [
    "for key in com.reactions:\n",
    "    if \"biomass\" in key.id:\n",
    "        print(key.id)"
   ]
  },
  {
   "cell_type": "code",
   "execution_count": null,
   "metadata": {},
   "outputs": [],
   "source": [
    "for i in so.members.index:\n",
    "    if i != \"medium\":\n",
    "        growth_rate = sol.members.growth_rate[i]\n",
    "        print(growth_rate)"
   ]
  },
  {
   "cell_type": "code",
   "execution_count": null,
   "metadata": {},
   "outputs": [],
   "source": [
    "df = pd.DataFrame({\n",
    "    'reaction': med.index,\n",
    "    'flux': [med[i] for i in med.index]\n",
    "})"
   ]
  },
  {
   "cell_type": "code",
   "execution_count": null,
   "metadata": {},
   "outputs": [],
   "source": [
    "df"
   ]
  },
  {
   "cell_type": "code",
   "execution_count": null,
   "metadata": {},
   "outputs": [],
   "source": [
    "def dfba_timestep(\n",
    "        model,\n",
    "        current_state,\n",
    "        kinetic_params,\n",
    "        species_growth,\n",
    "        substrate_update_reactions,\n",
    "        dt,\n",
    "        biomass_identifier='biomass'\n",
    "):\n",
    "    updated_state = current_state.copy()\n",
    "    \n",
    "    for substrate, reaction_id in substrate_update_reactions.items():\n",
    "        Km, Vmax = kinetic_params[substrate]\n",
    "        substrate_concentration = updated_state[substrate]\n",
    "        uptake_rate = Vmax * substrate_concentration / (Km + substrate_concentration)\n",
    "        model.medium[reaction_id] = uptake_rate\n",
    "        print(uptake_rate)\n",
    "\n",
    "    solution = model.optimize()\n",
    "    sol = model.cooperative_tradeoff(fraction=0.5, fluxes= True)\n",
    "    \n",
    "    if solution.status == 'optimal':\n",
    "        current_biomass = current_state[biomass_identifier]\n",
    "        biomass_growth_rate = solution.objective_value\n",
    "        updated_state[biomass_identifier] += biomass_growth_rate * current_biomass * dt\n",
    "        \n",
    "        for key in species_growth.keys():\n",
    "            growth = species_growth[key]\n",
    "            species_growth_rate = sol.members.growth_rate[key]\n",
    "            updated_state[key] += species_growth_rate * growth * dt\n",
    "            \n",
    "        for substrate, reaction_id in substrate_update_reactions.items():\n",
    "            flux = sol.fluxes[reaction_id].medium\n",
    "            updated_state[substrate] = max(updated_state[substrate] + flux * current_biomass * dt, 0)\n",
    "    else:\n",
    "        # Handle non-optimal solutions if necessary\n",
    "        pass\n",
    "\n",
    "    return updated_state\n",
    "\n",
    "\n",
    "def perform_dfba(\n",
    "        model,\n",
    "        initial_conditions,\n",
    "        kinetic_params,\n",
    "        species_growth,\n",
    "        time_points,\n",
    "        substrate_update_reactions,\n",
    "        dt,\n",
    "        biomass_identifier='biomass'\n",
    "):\n",
    "    results = {key: [value] for key, value in initial_conditions.items()}\n",
    "    current_state = initial_conditions\n",
    "\n",
    "    for t_i in range(1, len(time_points)):\n",
    "        current_state = dfba_timestep(model,\n",
    "                                      current_state,\n",
    "                                      kinetic_params,\n",
    "                                      species_growth,\n",
    "                                      substrate_update_reactions,\n",
    "                                      dt,\n",
    "                                      biomass_identifier)\n",
    "\n",
    "        # Store the current state in results\n",
    "        for key in current_state:\n",
    "            if key in results:\n",
    "                results[key].append(current_state[key])\n",
    "            else:\n",
    "                results[key] = [current_state[key]]\n",
    "\n",
    "    return results\n",
    "\n",
    "def plot_dfba_results(time_points, dfba_results, title=''):\n",
    "    plt.figure(figsize=(8, 5))\n",
    "    for key, values in dfba_results.items():\n",
    "        plt.plot(time_points, values, label=key.capitalize())\n",
    "\n",
    "    plt.title(title)\n",
    "    plt.xlabel('Time')\n",
    "    plt.ylabel('Concentration')\n",
    "    plt.legend()\n",
    "    plt.show()"
   ]
  },
  {
   "cell_type": "code",
   "execution_count": null,
   "metadata": {},
   "outputs": [],
   "source": [
    "# Define initial conditions, kinetic parameters, and other necessary inputs\n",
    "species_growth = {}\n",
    "for i in so.members.index:\n",
    "    if i != \"medium\":\n",
    "        species_growth[i] = sol.members.growth_rate[i]\n",
    "\n",
    "\n",
    "initial_conditions = {\n",
    "    'biomass': so.objective_value,  # Initial biomass concentration\n",
    "    'glucose': 100, # Initial glucose concentration\n",
    "    'fructose': 100   # Initial acetate concentration\n",
    "}\n",
    "\n",
    "initial_conditions_updated = {**initial_conditions, **species_growth} # combine the species growth and initial conditions\n",
    "\n",
    "\n",
    "kinetic_params = {\n",
    "    'glucose': (0.5, 2), # Km and Vmax for glucose\n",
    "    'fructose': (5, 2)  # Km and Vmax for acetate\n",
    "}\n",
    "substrate_update_reactions = {\n",
    "    'glucose': 'EX_glc_D_m',  # Exchange reaction ID for glucose\n",
    "    'fructose': 'EX_fru_m'       # Exchange reaction ID for acetate\n",
    "}\n",
    "\n",
    "# simulation conditions\n",
    "t_n = 100 # number of time points\n",
    "dt = 0.0001 # Time step, matching your setup\n",
    "time_points = list(range(0, t_n))  # Simulation time points, matching your setup\n"
   ]
  },
  {
   "cell_type": "code",
   "execution_count": null,
   "metadata": {},
   "outputs": [],
   "source": [
    "initial_conditions_updated"
   ]
  },
  {
   "cell_type": "code",
   "execution_count": null,
   "metadata": {},
   "outputs": [],
   "source": [
    "# Make sure to adjust the perform_dfba function if needed to initialize result arrays with sufficient size\n",
    "dfba_results = perform_dfba(\n",
    "    com, \n",
    "    initial_conditions_updated, \n",
    "    kinetic_params, \n",
    "    species_growth,\n",
    "    time_points,  \n",
    "    substrate_update_reactions, \n",
    "    dt,\n",
    "    'biomass'\n",
    ")"
   ]
  },
  {
   "cell_type": "code",
   "execution_count": null,
   "metadata": {},
   "outputs": [],
   "source": [
    "dfba_results"
   ]
  },
  {
   "cell_type": "code",
   "execution_count": null,
   "metadata": {},
   "outputs": [],
   "source": [
    "nutrient_results = {key: value for key, value in dfba_results.items() if key != 'biomass'}\n",
    "biomass_results = {key: value for key, value in dfba_results.items() if key == 'biomass'}\n",
    "plot_dfba_results(time_points, nutrient_results)\n",
    "plot_dfba_results(time_points, biomass_results)"
   ]
  },
  {
   "cell_type": "code",
   "execution_count": null,
   "metadata": {},
   "outputs": [],
   "source": [
    "plot_dfba_results(time_points, dfba_results)"
   ]
  },
  {
   "cell_type": "code",
   "execution_count": null,
   "metadata": {},
   "outputs": [],
   "source": []
  }
 ],
 "metadata": {
  "kernelspec": {
   "display_name": "pycomo",
   "language": "python",
   "name": "python3"
  },
  "language_info": {
   "codemirror_mode": {
    "name": "ipython",
    "version": 3
   },
   "file_extension": ".py",
   "mimetype": "text/x-python",
   "name": "python",
   "nbconvert_exporter": "python",
   "pygments_lexer": "ipython3",
   "version": "3.10.14"
  }
 },
 "nbformat": 4,
 "nbformat_minor": 2
}
